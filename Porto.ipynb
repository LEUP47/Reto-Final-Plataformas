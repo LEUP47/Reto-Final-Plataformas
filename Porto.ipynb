{
 "cells": [
  {
   "cell_type": "code",
   "execution_count": null,
   "metadata": {},
   "outputs": [],
   "source": [
    "dfp.head(5)\n",
    "dfp.dtypes"
   ]
  },
  {
   "cell_type": "code",
   "execution_count": null,
   "metadata": {},
   "outputs": [],
   "source": [
    "#Se eliminan los valores nulos\n",
    "dfp.isnull().sum()\n",
    "dfp=dfp.fillna(method='ffill')\n",
    "dfp=dfp.fillna(method='bfill')"
   ]
  },
  {
   "cell_type": "code",
   "execution_count": null,
   "metadata": {},
   "outputs": [],
   "source": [
    "#Como no funciono el bfill y ffill usamos el metodo de sustituir por una palabra \n",
    "dfp1=dfp.fillna('nulos')\n",
    "dfp1.info()\n",
    "dfp1.isnull().sum().sum()"
   ]
  },
  {
   "cell_type": "code",
   "execution_count": null,
   "metadata": {},
   "outputs": [],
   "source": [
    "#Se separan las columnas por cualitativas y cuantitativas\n",
    "numcolp=dfp1.select_dtypes(include=['number'])\n",
    "catcolsinfiltrarp=dfp1.select_dtypes(include=['object'])"
   ]
  },
  {
   "cell_type": "code",
   "execution_count": null,
   "metadata": {},
   "outputs": [],
   "source": [
    "#Se seleccionan las variables solicitadas \n",
    "catcolp=catcolsinfiltrarp[['host_response_time','host_acceptance_rate','property_type','room_type','amenities','host_is_superhost']]"
   ]
  },
  {
   "cell_type": "code",
   "execution_count": null,
   "metadata": {},
   "outputs": [],
   "source": [
    "#Se procesan los datos nulos de las varibales numericas \n",
    "numcolp.isnull().sum().sum()\n",
    "numcolp=numcolp.fillna(method='ffill')\n",
    "numcolp=numcolp.fillna(method='bfill')"
   ]
  },
  {
   "cell_type": "code",
   "execution_count": null,
   "metadata": {},
   "outputs": [],
   "source": [
    "#Comprobamos los valores faltantes nuevamente \n",
    "numcolp.isnull().sum().sum()"
   ]
  },
  {
   "cell_type": "code",
   "execution_count": null,
   "metadata": {},
   "outputs": [],
   "source": [
    "numcolp_sinid=numcolp.drop(['id','host_id','scrape_id'],axis=1)"
   ]
  },
  {
   "cell_type": "code",
   "execution_count": null,
   "metadata": {},
   "outputs": [],
   "source": [
    "#Obtenemos los limites superior e inferior de todas las variables numericas\n",
    "#Realizamos diagrama de caja o bigote de cada columna del dataframe\n",
    "fig = plt.figure(figsize =(15, 8))\n",
    "numcolp_sinid.plot(kind='box', vert=False)\n",
    "plt.title(\"Valores Atípicos del Dataframe\")\n",
    "plt.show() "
   ]
  },
  {
   "cell_type": "code",
   "execution_count": null,
   "metadata": {},
   "outputs": [],
   "source": [
    "#Método aplicando desviación estandar. Encuentro los valores extremos\n",
    "y=numcolp_sinid\n",
    "Limite_Superior= y.mean() + 3*y.std()\n",
    "Limite_Inferior= y.mean() - 3*y.std()\n",
    "print(\"Limite superior permitido\", Limite_Superior)\n",
    "print(\"Limite inferior permitido\", Limite_Inferior)"
   ]
  },
  {
   "cell_type": "code",
   "execution_count": null,
   "metadata": {},
   "outputs": [],
   "source": [
    "#Obtenemos datos y los outliers se convierten en nulos en el DataFrame\n",
    "pnumcol_outliers= numcolp_sinid[(y<=Limite_Superior)&(y>=Limite_Inferior)]\n",
    "pnumcol_outliers"
   ]
  },
  {
   "cell_type": "code",
   "execution_count": null,
   "metadata": {},
   "outputs": [],
   "source": [
    "#Comprobamos los valores atipicos que se volvieron nulos \n",
    "pnumcol_outliers.isnull().sum()"
   ]
  },
  {
   "cell_type": "code",
   "execution_count": null,
   "metadata": {},
   "outputs": [],
   "source": [
    "#Reemplazamos valores atípicos (nulos) del dataframe con \"mean\"\n",
    "#Realizamos una copia del dataframe\n",
    "pnumcol_clean=pnumcol_outliers.copy()\n",
    "pnumcol_clean=pnumcol_clean.fillna(round(pnumcol_outliers.mean(),1))\n",
    "pnumcol_clean"
   ]
  },
  {
   "cell_type": "code",
   "execution_count": null,
   "metadata": {},
   "outputs": [],
   "source": [
    "#Corroboramos valores nulos del dataframe LIMPIO\n",
    "pnumcol_clean.isnull().sum().sum()"
   ]
  },
  {
   "cell_type": "code",
   "execution_count": null,
   "metadata": {},
   "outputs": [],
   "source": [
    "freq_tbl(catcolp)\n",
    "catcolp.columns"
   ]
  },
  {
   "cell_type": "code",
   "execution_count": null,
   "metadata": {},
   "outputs": [],
   "source": [
    "# Limitar numero máximo de filas\n",
    "pd.options.display.max_rows = None"
   ]
  },
  {
   "cell_type": "code",
   "execution_count": null,
   "metadata": {},
   "outputs": [],
   "source": [
    "#Obtenemos un análisis univariado de las diferentes variables\n",
    "table1p= freq_tbl(catcolp['amenities'])\n",
    "table2p= freq_tbl(catcolp['host_acceptance_rate'])\n",
    "table3p= freq_tbl(catcolp['host_is_superhost'])\n",
    "table4p= freq_tbl(catcolp['host_response_time'])\n",
    "table5p= freq_tbl(catcolp['property_type'])\n",
    "table6p= freq_tbl(catcolp['room_type'])\n",
    "table1p\n",
    "table2p\n",
    "table3p\n",
    "table4p\n",
    "table5p\n",
    "table6p"
   ]
  },
  {
   "cell_type": "code",
   "execution_count": null,
   "metadata": {},
   "outputs": [],
   "source": [
    "table1p.amenities = table1p.amenities.replace({'[\"Smoke alarm\", \"Washer\", \"Wifi\", \"TV\", \"Kitchen\"]':'Amenidades 1'}, regex=False)\n",
    "table1p.amenities = table1p.amenities.replace({'[\"Iron\", \"Paid parking on premises\", \"Air conditioning\", \"Smoke alarm\", \"Dedicated workspace\", \"Luggage dropoff allowed\", \"Wifi\", \"Hot water\", \"Essentials\", \"Heating\", \"Shampoo\", \"TV\"]':'Amenidades 2'}, regex=False)\n",
    "#table1p.amenities = table1p.amenities.replace({'[\"Iron\", \"Shampoo\", \"Hot water kettle\", \"Exterior security cameras on property\", \"Paid parking off premises\", \"Extra pillows and blankets\", \"Shower gel\", \"Paid washer \\u2013 In building\", \"Body soap\", \"Paid dryer \\u2013 In building\", \"Hangers\", \"Dedicated workspace\", \"First aid kit\", \"Host greets you\", \"Bed linens\", \"TV\", \"Conditioner\", \"Breakfast\", \"Mini fridge\", \"Luggage dropoff allowed\", \"Safe\", \"Waterfront\", \"Portable fans\", \"Hair dryer\", \"Smoke alarm\", \"Clothing storage\", \"Refrigerator\", \"Shared patio or balcony\", \"Wifi\", \"Hot water\", \"Coffee maker\", \"Essentials\", \"Heating\", \"Fire extinguisher\"]':'Amenidades 3'}, regex=False)\n",
    "table1p.amenities = table1p.amenities.replace({'[\"Iron\", \"Shampoo\", \"Paid parking on premises\", \"Extra pillows and blankets\", \"Stove\", \"Hangers\", \"Dedicated workspace\", \"Carbon monoxide alarm\", \"First aid kit\", \"Self check-in\", \"Bed linens\", \"TV\", \"Microwave\", \"Washer\", \"Luggage dropoff allowed\", \"Oven\", \"Cooking basics\", \"Dishwasher\", \"Air conditioning\", \"Smoke alarm\", \"Dryer\", \"Wifi\", \"Hot water\", \"Coffee maker\", \"Essentials\", \"Heating\", \"Fire extinguisher\", \"Building staff\", \"Gym\", \"Dishes and silverware\", \"Kitchen\"]':'Amenidades 4'}, regex=False)\n"
   ]
  },
  {
   "cell_type": "code",
   "execution_count": null,
   "metadata": {},
   "outputs": [],
   "source": [
    "#Creamos un filtro de los valores más reelevantes de la variables categórica seleccionada\n",
    "\n",
    "Filtrop= table1p[table1p['frequency']>7]\n",
    "Filtrop\n",
    "#Ajustamos el indice de mi dataframe\n",
    "Filtro_index1p= Filtrop.set_index('amenities')\n",
    "Filtro_index1p\n",
    "#Eliminamos las columnas de \"percentage\" y \"cumulative_perc\"\n",
    "Filtro_index_frequency1p= Filtro_index1p.drop(['percentage','cumulative_perc'], axis=1)\n",
    "Filtro_index_frequency1p"
   ]
  },
  {
   "cell_type": "code",
   "execution_count": null,
   "metadata": {},
   "outputs": [],
   "source": [
    "Filtro_index_frequency1p.plot(kind = 'bar', width=0.8, figsize=(8,4),color='orchid')\n",
    "plt.title('Herramientas de relación con los clientes')\n",
    "plt.xlabel('Tipo de Herramienta')\n",
    "plt.ylabel('Frecuencia')"
   ]
  },
  {
   "cell_type": "code",
   "execution_count": null,
   "metadata": {},
   "outputs": [],
   "source": [
    "# Unimos los otros data frame para ver que esten limpios\n",
    "dfp_limpio = pd.concat([pnumcol_clean,numcolp,catcolp], axis=1)\n",
    "dfp_limpio.head(3)"
   ]
  },
  {
   "cell_type": "code",
   "execution_count": null,
   "metadata": {},
   "outputs": [],
   "source": [
    "dfp_limpio.isnull().sum().sum()"
   ]
  }
 ],
 "metadata": {
  "language_info": {
   "name": "python"
  }
 },
 "nbformat": 4,
 "nbformat_minor": 2
}
